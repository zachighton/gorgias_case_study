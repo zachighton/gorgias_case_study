{
 "cells": [
  {
   "cell_type": "code",
   "execution_count": 1049,
   "metadata": {},
   "outputs": [],
   "source": [
    "import requests\n",
    "from bs4 import BeautifulSoup\n",
    "import json\n",
    "from time import sleep\n",
    "from datetime import datetime\n",
    "import time\n",
    "from random import randint\n",
    "import urllib.request"
   ]
  },
  {
   "cell_type": "code",
   "execution_count": 1050,
   "metadata": {},
   "outputs": [],
   "source": [
    "with requests.Session() as se:\n",
    "    se.headers = {\n",
    "        \"User-Agent\": \"Mozilla/5.0 (Macintosh; Intel Mac OS X 12_2_1) AppleWebKit/537.36 (KHTML, like Gecko) Chrome/99.0.4844.51 Safari/537.36\",\n",
    "        \"Accept-Encoding\": \"gzip, deflate\",\n",
    "        \"Accept\": \"text/html,application/xhtml+xml,application/xml;q=0.9,image/webp,image/apng,*/*;q=0.8\",\n",
    "        \"Accept-Language\": \"en\"\n",
    "        }"
   ]
  },
  {
   "cell_type": "code",
   "execution_count": 1051,
   "metadata": {},
   "outputs": [
    {
     "name": "stdout",
     "output_type": "stream",
     "text": [
      "200\n",
      "200\n",
      "200\n",
      "200\n",
      "200\n",
      "200\n",
      "200\n",
      "200\n",
      "200\n",
      "200\n"
     ]
    }
   ],
   "source": [
    "kickstarter_projects = []\n",
    "\n",
    "for i in range(0, 10):\n",
    "    url = 'https://www.kickstarter.com/discover/advanced?state=successful&sort=end_date&seed=2744001&page='+str(i)\n",
    "    response=se.get(url)\n",
    "    print(response.status_code)\n",
    "    soup=BeautifulSoup(response.content, \"html.parser\")\n",
    "    data = [\n",
    "    (json.loads(i[\"data-project\"]), i[\"data-ref\"])\n",
    "        for i in soup.find_all(\"div\")\n",
    "        if i.get(\"data-project\")\n",
    "    ]\n",
    "    kickstarter_projects.extend(data)\n",
    "    sleep(randint(1,2))"
   ]
  },
  {
   "cell_type": "code",
   "execution_count": 1052,
   "metadata": {},
   "outputs": [],
   "source": [
    "# cleaning\n",
    "kickstarter_clean = [i[0] for i in kickstarter_projects]"
   ]
  },
  {
   "cell_type": "code",
   "execution_count": 1053,
   "metadata": {},
   "outputs": [],
   "source": [
    "# getting only projects within last week\n",
    "\n",
    "day = 24*60*60*7\n",
    "kickstarter_recent = []\n",
    "\n",
    "for i in range(len(kickstarter_clean)):\n",
    "    if kickstarter_clean[i]['deadline'] > time.time() - day:\n",
    "        kickstarter_recent.append(kickstarter_clean[i])"
   ]
  },
  {
   "cell_type": "code",
   "execution_count": 1054,
   "metadata": {},
   "outputs": [
    {
     "data": {
      "text/plain": [
       "(120, 120)"
      ]
     },
     "execution_count": 1054,
     "metadata": {},
     "output_type": "execute_result"
    }
   ],
   "source": [
    "len(kickstarter_recent), len(kickstarter_clean)"
   ]
  },
  {
   "cell_type": "code",
   "execution_count": 1055,
   "metadata": {},
   "outputs": [],
   "source": [
    "# getting the identified status of the company"
   ]
  },
  {
   "cell_type": "code",
   "execution_count": 1056,
   "metadata": {},
   "outputs": [
    {
     "name": "stdout",
     "output_type": "stream",
     "text": [
      "200\n",
      "200\n",
      "200\n",
      "200\n",
      "200\n",
      "200\n",
      "200\n",
      "200\n",
      "200\n",
      "200\n",
      "200\n",
      "200\n",
      "200\n",
      "200\n",
      "200\n",
      "200\n",
      "200\n",
      "200\n",
      "200\n",
      "200\n",
      "200\n",
      "200\n",
      "200\n",
      "200\n",
      "200\n",
      "200\n",
      "200\n",
      "200\n",
      "200\n",
      "200\n",
      "200\n",
      "200\n",
      "200\n",
      "200\n",
      "200\n",
      "200\n",
      "200\n",
      "200\n",
      "200\n",
      "200\n",
      "200\n",
      "200\n",
      "200\n",
      "200\n",
      "200\n",
      "200\n",
      "200\n",
      "200\n",
      "200\n",
      "200\n",
      "200\n",
      "200\n",
      "200\n",
      "200\n",
      "200\n",
      "200\n",
      "200\n",
      "200\n",
      "200\n",
      "200\n",
      "200\n",
      "200\n",
      "200\n",
      "200\n",
      "200\n",
      "200\n",
      "200\n",
      "200\n",
      "200\n",
      "200\n",
      "200\n",
      "200\n",
      "200\n",
      "200\n",
      "200\n",
      "200\n",
      "200\n",
      "200\n",
      "200\n",
      "200\n",
      "200\n",
      "200\n",
      "200\n",
      "200\n",
      "200\n",
      "200\n",
      "200\n",
      "200\n",
      "200\n",
      "200\n",
      "200\n",
      "200\n",
      "200\n",
      "200\n",
      "200\n",
      "200\n",
      "200\n",
      "200\n",
      "200\n",
      "200\n",
      "200\n",
      "200\n",
      "200\n",
      "200\n",
      "200\n",
      "200\n",
      "200\n",
      "200\n",
      "200\n",
      "200\n",
      "200\n",
      "200\n",
      "200\n",
      "200\n",
      "200\n",
      "200\n",
      "200\n",
      "200\n",
      "200\n",
      "200\n"
     ]
    }
   ],
   "source": [
    "for i in range(len(kickstarter_recent)):\n",
    "\n",
    "    try:\n",
    "        url = 'https://www.kickstarter.com/profile/' + str(kickstarter_recent[i]['creator']['id']) + '/about'\n",
    "        response=se.get(url)\n",
    "        print(response.status_code)\n",
    "        soup=BeautifulSoup(response.content, \"html.parser\")\n",
    "\n",
    "        if soup.find_all('ul', {'class':'menu-submenu mb6'}):\n",
    "            a_tags = soup.find_all('ul', {'class':'menu-submenu mb6'})[0].find_all('a')\n",
    "        \n",
    "        hrefs = []\n",
    "        for a in a_tags:\n",
    "            hrefs.append(a.get('href'))\n",
    "\n",
    "        if len(hrefs) != 0:\n",
    "            kickstarter_recent[i]['identified'] = True\n",
    "            kickstarter_recent[i]['website'] = hrefs[0]\n",
    "        else:\n",
    "            kickstarter_recent[i]['identified'] = False\n",
    "        \n",
    "        sleep(randint(1,2))\n",
    "        \n",
    "    except:\n",
    "        pass"
   ]
  },
  {
   "cell_type": "code",
   "execution_count": 1057,
   "metadata": {},
   "outputs": [],
   "source": [
    "# filtering out unidentified companies\n",
    "kickstarter_id = [i for i in kickstarter_recent if i['identified'] == True]"
   ]
  },
  {
   "cell_type": "code",
   "execution_count": 1058,
   "metadata": {},
   "outputs": [
    {
     "data": {
      "text/plain": [
       "(120, 120)"
      ]
     },
     "execution_count": 1058,
     "metadata": {},
     "output_type": "execute_result"
    }
   ],
   "source": [
    "len(kickstarter_recent), len(kickstarter_id)"
   ]
  },
  {
   "cell_type": "code",
   "execution_count": 1059,
   "metadata": {},
   "outputs": [],
   "source": [
    "# using builtwith to filter for domains using shopify\n",
    "\n",
    "domain_info = []\n",
    "\n",
    "for i in range(len(kickstarter_id)):\n",
    "    with urllib.request.urlopen(\"https://api.builtwith.com/free1/api.[json]?KEY=&LOOKUP==\" + str(kickstarter_id[i]['website'])) as url:\n",
    "        data = json.loads(url.read().decode())\n",
    "        domain_info.append(data)\n",
    "        sleep(1)"
   ]
  },
  {
   "cell_type": "code",
   "execution_count": 1060,
   "metadata": {},
   "outputs": [],
   "source": [
    "# filtering out non relevant domains\n",
    "\n",
    "relevent_domains = []\n",
    "\n",
    "for d in range(len(domain_info)):\n",
    "\n",
    "    if 'first' in domain_info[d]:\n",
    "        relevent_domains.append(domain_info[d])"
   ]
  },
  {
   "cell_type": "code",
   "execution_count": null,
   "metadata": {},
   "outputs": [],
   "source": []
  },
  {
   "cell_type": "code",
   "execution_count": 1061,
   "metadata": {},
   "outputs": [],
   "source": [
    "# checking for shopify in domains\n",
    "\n",
    "shopify_websites = []\n",
    "\n",
    "for d in range(len(relevent_domains)):\n",
    "    for i in relevent_domains[d]['groups']:\n",
    "        if i['name']:\n",
    "            if i['name'] == 'shop':\n",
    "                for s in i['categories']:\n",
    "                    if 'shopify-app' in s['name']:\n",
    "                        shopify_websites.append(relevent_domains[d]['domain'])"
   ]
  },
  {
   "cell_type": "code",
   "execution_count": 1062,
   "metadata": {},
   "outputs": [
    {
     "data": {
      "text/plain": [
       "['naomi.se', 'sb-components.co.uk', 'steverude.com', 'iamrunbox.com']"
      ]
     },
     "execution_count": 1062,
     "metadata": {},
     "output_type": "execute_result"
    }
   ],
   "source": [
    "# filtering out duplicates\n",
    "\n",
    "target_websites = []\n",
    "\n",
    "[target_websites.append(element) for element in shopify_websites if element not in target_websites]\n",
    "\n",
    "target_websites"
   ]
  },
  {
   "cell_type": "code",
   "execution_count": 1063,
   "metadata": {},
   "outputs": [],
   "source": [
    "# returning campaigns that use shopify\n",
    "\n",
    "kickstarter_shopify = []\n",
    "\n",
    "for i in range(len(kickstarter_id)):\n",
    "    for site in target_websites:\n",
    "        if site in str(kickstarter_id[i]['website']).lower():\n",
    "            kickstarter_shopify.append(kickstarter_id[i])"
   ]
  },
  {
   "cell_type": "markdown",
   "metadata": {},
   "source": [
    "#### getting contact information"
   ]
  },
  {
   "cell_type": "code",
   "execution_count": 1064,
   "metadata": {},
   "outputs": [],
   "source": [
    "leads = {}\n",
    "\n",
    "for website in target_websites:\n",
    "    domain = website\n",
    "    url = 'https://api.hunter.io/v2/domain-search?domain='+ website +'&api_key='\n",
    "    r = requests.get(url)\n",
    "    leads[website] = r.json()"
   ]
  },
  {
   "cell_type": "code",
   "execution_count": 1065,
   "metadata": {},
   "outputs": [
    {
     "data": {
      "text/plain": [
       "4"
      ]
     },
     "execution_count": 1065,
     "metadata": {},
     "output_type": "execute_result"
    }
   ],
   "source": [
    "len(leads)"
   ]
  },
  {
   "cell_type": "code",
   "execution_count": 1094,
   "metadata": {},
   "outputs": [],
   "source": [
    "contact_data = {}\n",
    "\n",
    "for website in target_websites:\n",
    "\n",
    "    contact_data[website] = {}\n",
    "        \n",
    "    for i in range(len(leads[website]['data']['emails'])):\n",
    "\n",
    "        contact_data[website]['contact_' + str(i)] = {}\n",
    "\n",
    "        contact_data[website]['contact_' + str(i)]['email'] = leads[website]['data']['emails'][i]['value']\n",
    "        contact_data[website]['contact_' + str(i)]['first_name'] = leads[website]['data']['emails'][i]['first_name']\n",
    "        contact_data[website]['contact_' + str(i)]['last_name']  = leads[website]['data']['emails'][i]['last_name']\n",
    "        contact_data[website]['contact_' + str(i)]['position'] = leads[website]['data']['emails'][i]['position']\n",
    "\n",
    "        contact_data[website]['contact_' + str(i)]['department'] = leads[website]['data']['emails'][i]['department']\n",
    "        contact_data[website]['contact_' + str(i)]['seniority'] = leads[website]['data']['emails'][i]['seniority']\n",
    "        contact_data[website]['contact_' + str(i)]['linkedin'] = leads[website]['data']['emails'][i]['linkedin']\n",
    "        contact_data[website]['contact_' + str(i)]['twitter'] = leads[website]['data']['emails'][i]['twitter']\n",
    "        contact_data[website]['contact_' + str(i)]['phone_number'] = leads[website]['data']['emails'][i]['phone_number']\n"
   ]
  },
  {
   "cell_type": "markdown",
   "metadata": {},
   "source": [
    "#### adding data to contacts"
   ]
  },
  {
   "cell_type": "code",
   "execution_count": 1095,
   "metadata": {},
   "outputs": [],
   "source": [
    "# adding relevant data to contact data\n",
    "\n",
    "for key, value in contact_data.items():\n",
    "    for i in range(len(kickstarter_shopify)):\n",
    "        if key in str(kickstarter_shopify[i]['website']).lower():\n",
    "            for k, v in value.items():\n",
    "                v['backer_count'] = kickstarter_shopify[i]['backers_count']\n",
    "                v['project_name'] = kickstarter_shopify[i]['name']"
   ]
  },
  {
   "cell_type": "markdown",
   "metadata": {},
   "source": [
    "#### filtering relevant contacts"
   ]
  },
  {
   "cell_type": "code",
   "execution_count": 1097,
   "metadata": {},
   "outputs": [],
   "source": [
    "# these are some ideas to filter by, we would need to expand these lists\n",
    "\n",
    "departments = ['sales', 'marketing', 'communication', 'executive', 'customer']\n",
    "positions = ['founder', 'ceo', 'operations', 'marketing', 'customer', 'ecommerce', 'e-commerce', 'e commerce']\n",
    "\n",
    "# would be better to check if there is a partial match"
   ]
  },
  {
   "cell_type": "code",
   "execution_count": 1098,
   "metadata": {},
   "outputs": [],
   "source": [
    "for key, value in contact_data.items():\n",
    "    for k, v in list(value.items()):\n",
    "        if v['first_name'] == None:\n",
    "            del(value[k])\n",
    "        \n",
    "        # elif v['backer_count'] < 20:\n",
    "            # del(value[k])'''\n",
    "        \n",
    "        elif v['department'] in departments or v['position'] in positions:\n",
    "            pass\n",
    "\n",
    "    if len(value) == 1:\n",
    "            pass\n",
    "    \n",
    "    else:\n",
    "        try:\n",
    "            del(value[k])\n",
    "        except:\n",
    "            pass"
   ]
  },
  {
   "cell_type": "code",
   "execution_count": 1099,
   "metadata": {},
   "outputs": [],
   "source": [
    "# removing empty dicts\n",
    "\n",
    "for entry in list(contact_data):\n",
    "    if bool(contact_data[entry]) == False:\n",
    "        del(contact_data[entry])"
   ]
  },
  {
   "cell_type": "markdown",
   "metadata": {},
   "source": [
    "#### copy draft\n",
    "\n",
    "''' Dear {{first_name}} {{last_name}},\n",
    "\n",
    "I am reaching out to you from Gorgias becuase we noticed that you have successfully finished your kickstarter campaign {{project_name}}!\n",
    "\n",
    "Gorgias is a helpdesk company which allows its clients to easily and effectively keep track of and respond to customer interactions. \n",
    "We offer ways to automate customer service and can greatly increase your ability to repond to customers.\n",
    "\n",
    "Gorgias is the best way to make sure you keep your {{backer_count}} backers informed and up to date.\n",
    "\n",
    "If you are interested in trying our product please reach out to us by replying to this email or book your demo at gorgias.com/demo.\n",
    "\n",
    "Thank you for your time,\n",
    "\n",
    "Zachary Highton '''"
   ]
  },
  {
   "cell_type": "markdown",
   "metadata": {},
   "source": [
    "#### Segment"
   ]
  },
  {
   "cell_type": "code",
   "execution_count": 1102,
   "metadata": {},
   "outputs": [],
   "source": [
    "import analytics\n",
    "\n",
    "analytics.write_key = ''"
   ]
  },
  {
   "cell_type": "code",
   "execution_count": 1103,
   "metadata": {},
   "outputs": [],
   "source": [
    "for key, value in contact_data.items():\n",
    "    for k, v in value.items():\n",
    "        analytics.track(v['email'], 'kickstarter-campaign-completed',\n",
    "        {'first_name': v['first_name'],\n",
    "        'last_name':v['last_name'],\n",
    "        'project_name':v['project_name'],\n",
    "        'backer_count':v['backer_count']})"
   ]
  }
 ],
 "metadata": {
  "interpreter": {
   "hash": "e3febfacef36c1a0b553005fa3c1d3c7d3e23c33a768e509025a4949f9523002"
  },
  "kernelspec": {
   "display_name": "Python 3.9.7 ('da_env')",
   "language": "python",
   "name": "python3"
  },
  "language_info": {
   "codemirror_mode": {
    "name": "ipython",
    "version": 3
   },
   "file_extension": ".py",
   "mimetype": "text/x-python",
   "name": "python",
   "nbconvert_exporter": "python",
   "pygments_lexer": "ipython3",
   "version": "3.9.7"
  },
  "orig_nbformat": 4
 },
 "nbformat": 4,
 "nbformat_minor": 2
}
